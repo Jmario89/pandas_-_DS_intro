{
 "cells": [
  {
   "cell_type": "markdown",
   "source": [
    "# Introduciendo Pandas\n",
    "\n",
    "Pandas es una biblioteca de Python que facilita el manejo de datos tabulares. Ya que estamos haciendo ciencia de datos, ¡esto es algo que usaremos de vez en cuando!\n",
    "\n",
    "Es una de las tres bibliotecas que encontrará repetidamente en el campo de la ciencia de datos:\n",
    "\n",
    "## Pandas\n",
    "Introduce conceptos de \"DataFrames\" y \"Series\" que permiten dividir y agrupar filas y columnas de información.\n",
    "\n",
    "## NumPy\n",
    "Por lo general, trabajermos con \"NumPy arrays\", que son objetos de matriz multidimensionales. Es fácil crear un DataFrame a partir de un NumPy array, y los DataFrames se pueden convertir en NumPy arrays. Los NumPy arrays son principalmente importantes debido a ...\n",
    "\n",
    "## Scikit_Learn\n",
    "La biblioteca de aprendizaje automático que usaremos para muchas tareas, y generalmente toma NumPy arrays como entrada.\n",
    "\n",
    "Por lo tanto, lo típico es cargar, limpiar y manipular los datos de entrada usando Pandas. Luego, convertir el DataFrame en un NumPy array para usar alguna función de Scikit_Learn. Esa conversión a muchas veces puede ocurrir automáticamente.\n"
   ],
   "metadata": {}
  },
  {
   "cell_type": "markdown",
   "source": [
    "Comencemos instalando todas las librerías requeridas a lo largo de la presentación:"
   ],
   "metadata": {}
  },
  {
   "cell_type": "code",
   "execution_count": null,
   "source": [
    "!pip install -r ../requirements.txt"
   ],
   "outputs": [],
   "metadata": {}
  },
  {
   "cell_type": "markdown",
   "source": [
    "Ahora si, cargamos algunos datos de valores separados por comas usando Pandas en un DataFrame:"
   ],
   "metadata": {}
  },
  {
   "cell_type": "code",
   "execution_count": null,
   "source": [
    "import pandas as pd\n",
    "\n",
    "df = pd.read_csv(\"ContratacionesAnteriores.csv\")\n",
    "df.head()"
   ],
   "outputs": [],
   "metadata": {}
  },
  {
   "cell_type": "markdown",
   "source": [
    "head() es una forma práctica de visualizar lo que ha cargado. Puede pasarle un número entero para ver un número específico de filas al comienzo de tu DataFrame:"
   ],
   "metadata": {}
  },
  {
   "cell_type": "code",
   "execution_count": null,
   "source": [
    "df.head(10)"
   ],
   "outputs": [],
   "metadata": {}
  },
  {
   "cell_type": "markdown",
   "source": [
    "También puede ver el final de tus datos con tail():"
   ],
   "metadata": {}
  },
  {
   "cell_type": "code",
   "execution_count": null,
   "source": [
    "df.tail(4)"
   ],
   "outputs": [],
   "metadata": {}
  },
  {
   "cell_type": "markdown",
   "source": [
    "A menudo hablamos del \"shape\" de tu DataFrame. Estas son sus dimensiones. Este archivo CSV en particular tiene 13 filas con 5 columnas por fila:"
   ],
   "metadata": {}
  },
  {
   "cell_type": "code",
   "execution_count": null,
   "source": [
    "df.shape"
   ],
   "outputs": [],
   "metadata": {}
  },
  {
   "cell_type": "markdown",
   "source": [
    "El tamaño total del DataFrame es filas * columnas:"
   ],
   "metadata": {}
  },
  {
   "cell_type": "code",
   "execution_count": null,
   "source": [
    "df.size"
   ],
   "outputs": [],
   "metadata": {}
  },
  {
   "cell_type": "markdown",
   "source": [
    "La función len() retorna el número de filas en un DataFrame:"
   ],
   "metadata": {}
  },
  {
   "cell_type": "code",
   "execution_count": null,
   "source": [
    "len(df)"
   ],
   "outputs": [],
   "metadata": {}
  },
  {
   "cell_type": "markdown",
   "source": [
    "Si tu DataFrame tiene columnas con nombre (en nuestro caso, extraídas automáticamente de la primera fila de un archivo .csv), puede obtener el listado de estas:"
   ],
   "metadata": {}
  },
  {
   "cell_type": "code",
   "execution_count": null,
   "source": [
    "df.columns"
   ],
   "outputs": [],
   "metadata": {}
  },
  {
   "cell_type": "markdown",
   "source": [
    "Puedes extraer una sola columna de tu DataFrame así: esto te da una \"Serie\" en Pandas:"
   ],
   "metadata": {}
  },
  {
   "cell_type": "code",
   "execution_count": null,
   "source": [
    "df['Contratado?']"
   ],
   "outputs": [],
   "metadata": {}
  },
  {
   "cell_type": "markdown",
   "source": [
    "También puede extraer un rango determinado de filas de una columna con nombre, así:"
   ],
   "metadata": {}
  },
  {
   "cell_type": "code",
   "execution_count": null,
   "source": [
    "df['Contratado?'][:5]"
   ],
   "outputs": [],
   "metadata": {}
  },
  {
   "cell_type": "markdown",
   "source": [
    "O incluso extraer un solo valor de una combinación de columna / fila especificada:"
   ],
   "metadata": {}
  },
  {
   "cell_type": "code",
   "execution_count": null,
   "source": [
    "df['Contratado?'][4]"
   ],
   "outputs": [],
   "metadata": {}
  },
  {
   "cell_type": "markdown",
   "source": [
    "Para extraer más de una columna, pasa un listado de nombres de columna en lugar de una sola:"
   ],
   "metadata": {}
  },
  {
   "cell_type": "code",
   "execution_count": null,
   "source": [
    "df[['Tiempo de experiencia', 'Contratado?']]"
   ],
   "outputs": [],
   "metadata": {}
  },
  {
   "cell_type": "markdown",
   "source": [
    "También puedes extraer rangos específicos de filas de más de una columna:"
   ],
   "metadata": {}
  },
  {
   "cell_type": "code",
   "execution_count": null,
   "source": [
    "df[['Tiempo de experiencia', 'Contratado?']][:5]"
   ],
   "outputs": [],
   "metadata": {}
  },
  {
   "cell_type": "markdown",
   "source": [
    "Puedes ordenar el DataFrame por una columna específica así:"
   ],
   "metadata": {}
  },
  {
   "cell_type": "code",
   "execution_count": null,
   "source": [
    "df.sort_values(['Tiempo de experiencia'])"
   ],
   "outputs": [],
   "metadata": {}
  },
  {
   "cell_type": "markdown",
   "source": [
    "También puedes desglosar la cantidad de valores únicos de una columna determinada en una serie usando value_counts(); esta es una buena manera de comprender la distribución de sus datos:"
   ],
   "metadata": {}
  },
  {
   "cell_type": "code",
   "execution_count": null,
   "source": [
    "degree_counts = df['Nivel de educacion'].value_counts()\n",
    "degree_counts"
   ],
   "outputs": [],
   "metadata": {}
  },
  {
   "cell_type": "markdown",
   "source": [
    "Pandas incluso hace fácil hacer un gráfico de una serie o DataFrame, simplemente llamando la función plot():"
   ],
   "metadata": {}
  },
  {
   "cell_type": "code",
   "execution_count": null,
   "source": [
    "degree_counts.plot(kind='bar')"
   ],
   "outputs": [],
   "metadata": {}
  },
  {
   "cell_type": "markdown",
   "source": [
    "## Ejercicio\n",
    "\n",
    "1. Extraer las filas 5 a 10 de nuestro DataFrame, conservando solo las columnas \"No. empleos anteriores\" y \"Contratado?\". \n",
    "2. Asigne el resultado a un nuevo DataFrame\n",
    "3. cree un histograma que represente la distribución de columna \"No. empleos anteriores\" en este subconjunto de datos."
   ],
   "metadata": {}
  }
 ],
 "metadata": {
  "kernelspec": {
   "name": "python3",
   "display_name": "Python 3.8.12 64-bit ('ai-intro': pyenv)"
  },
  "language_info": {
   "codemirror_mode": {
    "name": "ipython",
    "version": 3
   },
   "file_extension": ".py",
   "mimetype": "text/x-python",
   "name": "python",
   "nbconvert_exporter": "python",
   "pygments_lexer": "ipython3",
   "version": "3.8.12"
  },
  "interpreter": {
   "hash": "d1c11a9c431ec75c08b8c4442f931dcc32f4f5f6a588b2d17bdd8af3d30655d2"
  }
 },
 "nbformat": 4,
 "nbformat_minor": 2
}