{
 "cells": [
  {
   "cell_type": "markdown",
   "metadata": {},
   "source": [
    "# Regresión múltiple"
   ]
  },
  {
   "cell_type": "markdown",
   "metadata": {},
   "source": [
    "- Tarea: entrenar un modelo que predice el Precio de un vehículo, basado en su kilometraje, número de cilindros y año de fabricación\n",
    "\n",
    "- Dataset: https://www.kaggle.com/austinreese/craigslist-carstrucks-data/version/10"
   ]
  },
  {
   "cell_type": "markdown",
   "metadata": {},
   "source": [
    "## Preparación de los datos"
   ]
  },
  {
   "cell_type": "markdown",
   "metadata": {},
   "source": [
    "Carguemos nuestros dataset de carros usados con precios y otras caracteristicas"
   ]
  },
  {
   "cell_type": "code",
   "execution_count": null,
   "metadata": {},
   "outputs": [],
   "source": []
  },
  {
   "cell_type": "markdown",
   "metadata": {},
   "source": [
    "Visualizamos los vehiculos agrupados por rangos de kilometraje.\n",
    "\n",
    "Para esto vamos a utilizar la función pandas.cut(...).\n",
    "- pandas.cut(..): Es útil cuando necesite segmentar y ordenar valores de datos en contenedores. Esta función también es útil para convertir una variable continua a una categórica.\n",
    "- bins = contenedores"
   ]
  },
  {
   "cell_type": "code",
   "execution_count": null,
   "metadata": {},
   "outputs": [],
   "source": []
  },
  {
   "cell_type": "markdown",
   "metadata": {},
   "source": [
    "Podemos usar pandas para seleccionar solamente las caracteristicas en las que estamos interesados, y el valor que estamos tratando de predecir"
   ]
  },
  {
   "cell_type": "code",
   "execution_count": null,
   "metadata": {},
   "outputs": [],
   "source": []
  },
  {
   "cell_type": "markdown",
   "metadata": {},
   "source": [
    "En este ejemplo estamos evitando datos como la marca (manufacturer) o el modelo (model) ya que las regresiones no funcionan bien con este tipo de datos, al menos que puedas convertirlos a algún valor númerico.\n",
    "\n",
    "En este caso, usaremos pandas para convertir el valor de número de cilindros (cyllinders) a entero."
   ]
  },
  {
   "cell_type": "code",
   "execution_count": null,
   "metadata": {},
   "outputs": [],
   "source": []
  },
  {
   "cell_type": "markdown",
   "metadata": {},
   "source": [
    "## Entrenando mi modelo"
   ]
  },
  {
   "cell_type": "markdown",
   "metadata": {},
   "source": [
    "Creamos dos conjuntos de datos:\n",
    "\n",
    "- Panda DataFrame con características, lo llamamos X (por convención se usa X en mayúsculas)\n",
    "    - ['odometer', 'cylinders', 'year']\n",
    "- Panda Series con labels (valores a predecir), lo llamamos y (por convención se usa y en minúsculas)"
   ]
  },
  {
   "cell_type": "code",
   "execution_count": null,
   "metadata": {},
   "outputs": [],
   "source": []
  },
  {
   "cell_type": "markdown",
   "metadata": {},
   "source": [
    "Escalemos nuestras características en el mismo rango para que podamos comparar fácilmente los coeficientes con los que terminamos.\n",
    "\n",
    "- Usamos el objeto StandardScaler del paquete sklearn.preprocessing para escalar mis datos y hacerlos comparables. \n",
    "\n",
    "- El objeto StandardScaler ofrece el metodo fit_transform(...) que nos ayuda con esto.\n",
    "\n",
    "Recuerda que el orden de las caracteristicas es importante durante el entrenamiento, ya que durante la inferencia debemos pasarlas en el mismo orden!"
   ]
  },
  {
   "cell_type": "code",
   "execution_count": null,
   "metadata": {},
   "outputs": [],
   "source": []
  },
  {
   "cell_type": "markdown",
   "metadata": {},
   "source": [
    "Agregamos una columna constante a nuestro modelo de tal manera que podamos tener una intercepción.\n",
    "\n",
    "Para realizar esto usamos el método add_constant(...) del paquete statsmodels.api"
   ]
  },
  {
   "cell_type": "code",
   "execution_count": null,
   "metadata": {},
   "outputs": [],
   "source": []
  },
  {
   "cell_type": "markdown",
   "metadata": {},
   "source": [
    "Entrenamos nuestro modelo de regresión OLS (ordinary least squares).\n",
    "\n",
    "Para esto usaremos:\n",
    "- el metodo OLS(y, X).fit() del paquete statsmodels.api para entrenar el modelo\n",
    "- el metodo .summary() para ver el resumen de mi entrenamiento"
   ]
  },
  {
   "cell_type": "code",
   "execution_count": null,
   "metadata": {},
   "outputs": [],
   "source": []
  },
  {
   "cell_type": "markdown",
   "metadata": {},
   "source": [
    "La tabla de coeficientes anterior nos da los valores para insertar en una ecuación de forma:\n",
    "- B0 + B1 * odometer + B2 * cylinders + B3 * year"
   ]
  },
  {
   "cell_type": "markdown",
   "metadata": {},
   "source": [
    "## Usando mi modelo para realizar predicciones"
   ]
  },
  {
   "cell_type": "markdown",
   "metadata": {},
   "source": [
    "Comencemos escalando nuestras características en la misma escala que usamos para entrenar el modelo.\n",
    "\n",
    "Usamos StandardScaler.transform([[...]]) para escalar mis datos"
   ]
  },
  {
   "cell_type": "code",
   "execution_count": null,
   "metadata": {},
   "outputs": [],
   "source": []
  },
  {
   "cell_type": "markdown",
   "metadata": {},
   "source": [
    "Agregamos nuevamente la columna constante (intersección) nuevamente.\n",
    "\n",
    "Para realizar esto utilizamos numpy.insert(...)"
   ]
  },
  {
   "cell_type": "code",
   "execution_count": null,
   "metadata": {},
   "outputs": [],
   "source": []
  },
  {
   "cell_type": "markdown",
   "metadata": {},
   "source": [
    "Llame la función est.predict(...) pasando las características escaladas"
   ]
  },
  {
   "cell_type": "code",
   "execution_count": null,
   "metadata": {},
   "outputs": [],
   "source": []
  }
 ],
 "metadata": {
  "kernelspec": {
   "display_name": "Python 3 (ipykernel)",
   "language": "python",
   "name": "python3"
  },
  "language_info": {
   "codemirror_mode": {
    "name": "ipython",
    "version": 3
   },
   "file_extension": ".py",
   "mimetype": "text/x-python",
   "name": "python",
   "nbconvert_exporter": "python",
   "pygments_lexer": "ipython3",
   "version": "3.8.12"
  }
 },
 "nbformat": 4,
 "nbformat_minor": 1
}
