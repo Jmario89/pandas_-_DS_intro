{
 "cells": [
  {
   "cell_type": "markdown",
   "metadata": {},
   "source": [
    "# Covarianza y correlación"
   ]
  },
  {
   "cell_type": "markdown",
   "metadata": {},
   "source": [
    "Usamos Numpy para generar datos falsos de tiempo de llamada en minutos y edades. \n",
    "- callDuration: contiene datos de duración de llamada en minutos\n",
    "- callerAge: edad de la persona que realizó la llamada en años\n",
    "\n",
    "Estos datos son creados con proposito de demostración simplemente."
   ]
  },
  {
   "cell_type": "code",
   "execution_count": null,
   "metadata": {},
   "outputs": [],
   "source": [
    "import numpy as np\n",
    "from pylab import scatter\n",
    "\n",
    "np.random.seed(1)\n",
    "callDuration = np.random.normal(4.0, 1.0, 1000)\n",
    "callerAge = np.random.normal(50.0, 10.0, 1000)\n",
    "\n",
    "scatter(callDuration, callerAge)"
   ]
  },
  {
   "cell_type": "markdown",
   "metadata": {},
   "source": [
    "Inmediatamente podemos identificar que no hay relación entre la edad con la duración de llamada en este dataset. Verifiquemos los valores de covarianza y correlación. Recuerden que la correlación es la covarianza normalizada con las desviaciones estandar de cada atributo:\n",
    "\n",
    "Usamos funciones de Numpy para calcular estos valores:\n",
    "- np.cov(...): calcular covarianza\n",
    "- np.corrcoef(...): calcular correlación"
   ]
  },
  {
   "cell_type": "code",
   "execution_count": null,
   "metadata": {},
   "outputs": [],
   "source": [
    "covariance = np.cov(callDuration, callerAge)[0,1]\n",
    "correlation = np.corrcoef(callDuration, callerAge)[0,1]\n",
    "print(f\"covariance: {covariance}\")\n",
    "print(f\"correlation: {correlation}\")"
   ]
  },
  {
   "cell_type": "markdown",
   "metadata": {},
   "source": [
    "Ahora, si fabricamos nuevos valores de edad que esten relacionado con la duración de la llamada, cómo se afectan mis valores de covarianza y correlación?"
   ]
  },
  {
   "cell_type": "code",
   "execution_count": null,
   "metadata": {},
   "outputs": [],
   "source": [
    "callerAge = np.random.normal(50.0, 10.0, 1000) / callDuration\n",
    "scatter(callDuration, callerAge)"
   ]
  },
  {
   "cell_type": "markdown",
   "metadata": {},
   "source": [
    "Y voilá:"
   ]
  },
  {
   "cell_type": "code",
   "execution_count": null,
   "metadata": {},
   "outputs": [],
   "source": [
    "correlation = np.corrcoef(callDuration, callerAge)[0,1]\n",
    "print(f\"correlation: {correlation}\")"
   ]
  },
  {
   "cell_type": "markdown",
   "metadata": {},
   "source": [
    "Podemos forzar un correlación perfecta fabricando una relación completamente lineal:"
   ]
  },
  {
   "cell_type": "code",
   "execution_count": null,
   "metadata": {},
   "outputs": [],
   "source": [
    "callerAge = 60 - callDuration * 3\n",
    "scatter(callDuration, callerAge)\n",
    "correlation = np.corrcoef(callDuration, callerAge)[0,1]\n",
    "print(f\"correlation: {correlation}\")"
   ]
  },
  {
   "cell_type": "code",
   "execution_count": null,
   "metadata": {},
   "outputs": [],
   "source": []
  }
 ],
 "metadata": {
  "kernelspec": {
   "display_name": "Python 3 (ipykernel)",
   "language": "python",
   "name": "python3"
  },
  "language_info": {
   "codemirror_mode": {
    "name": "ipython",
    "version": 3
   },
   "file_extension": ".py",
   "mimetype": "text/x-python",
   "name": "python",
   "nbconvert_exporter": "python",
   "pygments_lexer": "ipython3",
   "version": "3.8.12"
  }
 },
 "nbformat": 4,
 "nbformat_minor": 1
}
