{
 "cells": [
  {
   "cell_type": "markdown",
   "metadata": {},
   "source": [
    "# Media, mediana y moda"
   ]
  },
  {
   "cell_type": "markdown",
   "metadata": {},
   "source": [
    "## Media versus Mediana"
   ]
  },
  {
   "cell_type": "markdown",
   "metadata": {},
   "source": [
    "Usamos Numpy para generar datos falsos de ingresos con las siguientes caracteristicas:\n",
    "1. Centrados con una distribución normal alrededor de 1.000.000\n",
    "2. Desviación estandar de 500.000\n",
    "3. 10000 valores\n",
    "\n",
    "Luego, calcule la media (promedio) - debería estar cerca del $1.000.000:"
   ]
  },
  {
   "cell_type": "code",
   "execution_count": 13,
   "metadata": {},
   "outputs": [
    {
     "data": {
      "text/plain": [
       "1006979.8301455496"
      ]
     },
     "execution_count": 13,
     "metadata": {},
     "output_type": "execute_result"
    }
   ],
   "source": [
    "import numpy as np\n",
    "\n",
    "incomes = np.random.normal(1000000, 500000, 10000)\n",
    "np.mean(incomes)"
   ]
  },
  {
   "cell_type": "markdown",
   "metadata": {},
   "source": [
    "Podemos segmentar los datos de ingresos en 50 bloques y trazarlos como un histograma:"
   ]
  },
  {
   "cell_type": "code",
   "execution_count": 15,
   "metadata": {},
   "outputs": [
    {
     "data": {
      "image/png": "[encoded data removed]",
      "text/plain": [
       "<Figure size 432x288 with 1 Axes>"
      ]
     },
     "metadata": {
      "needs_background": "light"
     },
     "output_type": "display_data"
    }
   ],
   "source": [
    "import matplotlib.pyplot as plt\n",
    "plt.hist(incomes, 50)\n",
    "plt.show()"
   ]
  },
  {
   "cell_type": "markdown",
   "metadata": {},
   "source": [
    "Ahora calculamos la mediana, dado que tenemos una distribución uniforme y agradable, también debería estar cerca de 1000000:"
   ]
  },
  {
   "cell_type": "code",
   "execution_count": 16,
   "metadata": {},
   "outputs": [
    {
     "data": {
      "text/plain": [
       "1007376.9409875064"
      ]
     },
     "execution_count": 16,
     "metadata": {},
     "output_type": "execute_result"
    }
   ],
   "source": [
    "np.median(incomes)"
   ]
  },
  {
   "cell_type": "markdown",
   "metadata": {},
   "source": [
    "Ahora vamos a agregar el salario de alguien muy millonario a nuestro conjunto de datos:"
   ]
  },
  {
   "cell_type": "code",
   "execution_count": 17,
   "metadata": {},
   "outputs": [],
   "source": [
    "incomes = np.append(incomes, [10000000000000])"
   ]
  },
  {
   "cell_type": "markdown",
   "metadata": {},
   "source": [
    "Vemos que la mediana no cambia mucho:"
   ]
  },
  {
   "cell_type": "code",
   "execution_count": 18,
   "metadata": {},
   "outputs": [
    {
     "data": {
      "text/plain": [
       "1007430.1647204995"
      ]
     },
     "execution_count": 18,
     "metadata": {},
     "output_type": "execute_result"
    }
   ],
   "source": [
    "np.median(incomes)"
   ]
  },
  {
   "cell_type": "markdown",
   "metadata": {},
   "source": [
    "Pero la media si:"
   ]
  },
  {
   "cell_type": "code",
   "execution_count": 19,
   "metadata": {},
   "outputs": [
    {
     "data": {
      "text/plain": [
       "1000906889.1412315"
      ]
     },
     "execution_count": 19,
     "metadata": {},
     "output_type": "execute_result"
    }
   ],
   "source": [
    "np.mean(incomes)"
   ]
  },
  {
   "cell_type": "markdown",
   "metadata": {},
   "source": [
    "## Moda"
   ]
  },
  {
   "cell_type": "markdown",
   "metadata": {},
   "source": [
    "A continuación, vamos a generar datos de edades falsa con las siguientes caracteristicas:\n",
    "1. rango de edades: 18 - 90\n",
    "2. 500 valores"
   ]
  },
  {
   "cell_type": "code",
   "execution_count": 21,
   "metadata": {},
   "outputs": [
    {
     "data": {
      "text/plain": [
       "array([40, 32, 46, 27, 72, 38, 23, 51, 30, 88, 33, 73, 26, 54, 86, 41, 25,\n",
       "       57, 55, 82, 41, 74, 28, 41, 39, 33, 51, 23, 78, 50, 39, 45, 68, 69,\n",
       "       45, 30, 71, 76, 34, 81, 21, 54, 75, 18, 80, 77, 62, 54, 25, 19, 30,\n",
       "       25, 30, 38, 24, 50, 45, 85, 30, 36, 66, 67, 20, 48, 27, 71, 51, 76,\n",
       "       24, 88, 76, 68, 80, 87, 57, 86, 39, 66, 68, 69, 86, 89, 85, 76, 40,\n",
       "       65, 38, 75, 36, 36, 46, 18, 82, 57, 21, 61, 25, 45, 68, 27, 47, 26,\n",
       "       38, 55, 76, 47, 42, 66, 85, 69, 30, 37, 47, 47, 85, 30, 56, 60, 57,\n",
       "       84, 57, 64, 77, 71, 65, 81, 33, 28, 30, 20, 79, 66, 30, 88, 49, 72,\n",
       "       86, 65, 19, 65, 36, 81, 64, 42, 81, 65, 70, 87, 80, 65, 85, 81, 44,\n",
       "       81, 19, 84, 73, 80, 55, 38, 43, 88, 64, 40, 56, 61, 26, 54, 35, 77,\n",
       "       68, 61, 51, 36, 51, 57, 21, 62, 53, 74, 42, 39, 57, 74, 48, 40, 47,\n",
       "       28, 55, 46, 34, 52, 74, 39, 75, 80, 40, 24, 65, 45, 63, 87, 88, 89,\n",
       "       89, 87, 53, 64, 75, 45, 30, 81, 53, 44, 29, 46, 24, 80, 48, 50, 22,\n",
       "       62, 58, 70, 78, 69, 55, 89, 46, 61, 52, 45, 89, 81, 51, 35, 40, 46,\n",
       "       20, 69, 47, 19, 59, 26, 82, 35, 86, 64, 69, 63, 72, 39, 54, 88, 57,\n",
       "       71, 29, 18, 39, 32, 23, 72, 69, 84, 70, 63, 85, 61, 59, 46, 87, 59,\n",
       "       86, 44, 53, 85, 89, 44, 47, 59, 72, 66, 33, 66, 67, 57, 31, 41, 54,\n",
       "       29, 73, 61, 63, 85, 86, 68, 65, 51, 53, 63, 46, 43, 57, 31, 79, 45,\n",
       "       45, 54, 89, 74, 58, 85, 50, 67, 64, 53, 53, 41, 48, 65, 69, 45, 70,\n",
       "       68, 26, 81, 74, 51, 71, 67, 72, 64, 21, 33, 87, 76, 47, 80, 32, 50,\n",
       "       36, 50, 89, 86, 30, 55, 48, 85, 65, 81, 64, 70, 51, 74, 35, 46, 51,\n",
       "       80, 87, 87, 62, 46, 76, 50, 79, 40, 58, 75, 45, 60, 32, 57, 70, 23,\n",
       "       45, 49, 27, 79, 55, 77, 49, 77, 75, 40, 59, 42, 23, 74, 79, 74, 57,\n",
       "       77, 56, 64, 63, 26, 73, 87, 74, 51, 66, 41, 31, 32, 42, 86, 34, 71,\n",
       "       74, 68, 70, 70, 78, 27, 51, 40, 61, 85, 84, 21, 80, 52, 60, 69, 25,\n",
       "       81, 34, 89, 54, 42, 52, 36, 22, 42, 56, 68, 55, 48, 69, 28, 58, 27,\n",
       "       54, 29, 53, 21, 38, 48, 25, 89, 33, 83, 28, 39, 67, 29, 21, 51, 33,\n",
       "       60, 80, 36, 25, 41, 37, 40, 55, 65, 48, 18, 38, 70, 46, 67, 88, 33,\n",
       "       63, 83, 35, 54, 34, 68, 82, 40, 68, 29, 89, 27, 33, 44, 39, 79, 75,\n",
       "       61, 34, 69, 71, 25, 76, 61])"
      ]
     },
     "execution_count": 21,
     "metadata": {},
     "output_type": "execute_result"
    }
   ],
   "source": [
    "ages = np.random.randint(18, high=90, size=500)\n",
    "ages"
   ]
  },
  {
   "cell_type": "code",
   "execution_count": 23,
   "metadata": {},
   "outputs": [
    {
     "data": {
      "text/plain": [
       "ModeResult(mode=array([51]), count=array([13]))"
      ]
     },
     "execution_count": 23,
     "metadata": {},
     "output_type": "execute_result"
    }
   ],
   "source": [
    "from scipy import stats\n",
    "stats.mode(ages)"
   ]
  },
  {
   "cell_type": "code",
   "execution_count": null,
   "metadata": {},
   "outputs": [],
   "source": []
  }
 ],
 "metadata": {
  "kernelspec": {
   "display_name": "Python 3",
   "language": "python",
   "name": "python3"
  },
  "language_info": {
   "codemirror_mode": {
    "name": "ipython",
    "version": 3
   },
   "file_extension": ".py",
   "mimetype": "text/x-python",
   "name": "python",
   "nbconvert_exporter": "python",
   "pygments_lexer": "ipython3",
   "version": "3.8.2"
  }
 },
 "nbformat": 4,
 "nbformat_minor": 1
}
