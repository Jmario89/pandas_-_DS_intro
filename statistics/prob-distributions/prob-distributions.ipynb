{
 "cells": [
  {
   "cell_type": "markdown",
   "metadata": {},
   "source": [
    "# Ejemplos de distribución de datos"
   ]
  },
  {
   "cell_type": "markdown",
   "metadata": {},
   "source": [
    "## Distribución uniforme"
   ]
  },
  {
   "cell_type": "markdown",
   "metadata": {},
   "source": [
    "probabilidad constante de que un valor ocurra en un rango dado"
   ]
  },
  {
   "cell_type": "code",
   "execution_count": null,
   "metadata": {},
   "outputs": [],
   "source": [
    "import numpy as np\n",
    "import matplotlib.pyplot as plt\n",
    "\n",
    "values = np.random.uniform(-10.0, 10.0, 100000)\n",
    "plt.hist(values, 50)\n",
    "plt.show()"
   ]
  },
  {
   "cell_type": "markdown",
   "metadata": {},
   "source": [
    "La función de distribución de probabilidad sería:\n",
    "- Antes de -10 y después de 10: 0\n",
    "- Entre -10 y 10: línea recta, implicando que todos los rangos de valores tienen la misma probabilidad de aparecer"
   ]
  },
  {
   "cell_type": "markdown",
   "metadata": {},
   "source": [
    "## Distribución normal (a.k.a \"de Gauss\", \"gaussiana\" o \"de Laplace-Gauss\")"
   ]
  },
  {
   "cell_type": "markdown",
   "metadata": {},
   "source": [
    "Tiene una función de densidad de probabilidad en forma de campana\n",
    "\n",
    "Usamos Numpy y función norm.pdf(...) para crear una distribución normal:\n",
    "1. Creamos mis valores de x, iniciando en -3 y terminando en 3, con incrementos de 0.001\n",
    "2. Usamos la función norm.pdf(...) del paquete scipy.stats para crear una distribución normal usando los valores de x"
   ]
  },
  {
   "cell_type": "code",
   "execution_count": null,
   "metadata": {},
   "outputs": [],
   "source": [
    "from scipy.stats import norm\n",
    "import matplotlib.pyplot as plt\n",
    "\n",
    "x = np.arange(-3, 3, 0.001)\n",
    "plt.plot(x, norm.pdf(x))"
   ]
  },
  {
   "cell_type": "markdown",
   "metadata": {},
   "source": [
    "Ahora generemos algunos números aleatorios con una distribución normal. \n",
    "- \"mean\" es la media\n",
    "- \"stdev\" es la desviación estándar\n",
    "\n",
    "Usamos Numpy para crear los valores."
   ]
  },
  {
   "cell_type": "code",
   "execution_count": null,
   "metadata": {},
   "outputs": [],
   "source": [
    "import numpy as np\n",
    "import matplotlib.pyplot as plt\n",
    "\n",
    "mean = 5.0\n",
    "stdev = 2.0\n",
    "values = np.random.normal(mean, stdev, 10000)\n",
    "plt.hist(values, 50)\n",
    "plt.show()"
   ]
  },
  {
   "cell_type": "markdown",
   "metadata": {},
   "source": [
    "## Distribución exponencial"
   ]
  },
  {
   "cell_type": "markdown",
   "metadata": {},
   "source": [
    "Tiene una función de densidad de probabilidad que genera una caida exponencial de valores. Usamos Numpy y función expon.pdf(...) para crear una distribución exponencial:\n",
    "1. Creamos mis valores de x, iniciando en 0 y terminando en 10, con incrementos de 0.001\n",
    "2. Usamos la función expon.pdf(...) del paquete scipy.stats para crear una distribución exponencial usando los valores de x"
   ]
  },
  {
   "cell_type": "code",
   "execution_count": null,
   "metadata": {},
   "outputs": [],
   "source": [
    "from scipy.stats import expon\n",
    "import matplotlib.pyplot as plt\n",
    "\n",
    "x = np.arange(0, 10, 0.001)\n",
    "plt.plot(x, expon.pdf(x))"
   ]
  },
  {
   "cell_type": "markdown",
   "metadata": {},
   "source": [
    "Una manera de ver esta distribución es imaginando algo que es muy probable que ocurra cuando x está cerca de 0, pero cuando te alejas, esta probabilidad cae abruptamente."
   ]
  },
  {
   "cell_type": "markdown",
   "metadata": {},
   "source": [
    "## Función de masa de probabilidad (binomial)"
   ]
  },
  {
   "cell_type": "markdown",
   "metadata": {},
   "source": [
    "Creamos nuestra función de masa de probabilidad:\n",
    "1. creamos valores de x, entre 0 y 10 con incrementos de 0.0001\n",
    "2. usamos la función binom.pmf(...) del paquete scipy.stats para generar nuestra función de masa de probabilidad\n",
    "    - los valores de n y p simplemente sirven para darle la forma a la distribución"
   ]
  },
  {
   "cell_type": "code",
   "execution_count": null,
   "metadata": {},
   "outputs": [],
   "source": [
    "from scipy.stats import binom\n",
    "import matplotlib.pyplot as plt\n",
    "\n",
    "n, p = 10, 0.5\n",
    "x = np.arange(0, 10, 0.001)\n",
    "plt.plot(x, binom.pmf(x, n, p))"
   ]
  }
 ],
 "metadata": {
  "kernelspec": {
   "display_name": "Python 3 (ipykernel)",
   "language": "python",
   "name": "python3"
  },
  "language_info": {
   "codemirror_mode": {
    "name": "ipython",
    "version": 3
   },
   "file_extension": ".py",
   "mimetype": "text/x-python",
   "name": "python",
   "nbconvert_exporter": "python",
   "pygments_lexer": "ipython3",
   "version": "3.8.12"
  }
 },
 "nbformat": 4,
 "nbformat_minor": 1
}
