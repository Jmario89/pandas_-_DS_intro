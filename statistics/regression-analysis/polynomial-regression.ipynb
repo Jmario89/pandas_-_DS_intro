{
 "cells": [
  {
   "cell_type": "markdown",
   "metadata": {},
   "source": [
    "# Regresión polinomial"
   ]
  },
  {
   "cell_type": "markdown",
   "metadata": {},
   "source": [
    "¿Qué pasa si sus datos no se ven lineales en absoluto? Fabriquemos algunos datos de duración de llamada vs. edad de la persona:"
   ]
  },
  {
   "cell_type": "code",
   "execution_count": null,
   "metadata": {},
   "outputs": [],
   "source": [
    "from pylab import scatter\n",
    "import numpy as np\n",
    "\n",
    "np.random.seed(2)\n",
    "\n",
    "callDuration = np.random.normal(3.0, 1.0, 1000)\n",
    "callerAge = np.random.normal(50.0, 10.0, 1000) / callDuration\n",
    "\n",
    "scatter(callDuration, callerAge)"
   ]
  },
  {
   "cell_type": "markdown",
   "metadata": {},
   "source": [
    "numpy tiene la función np.polyfit(...) que podemos usar para construir un modelo polinomial de n-simo grado a partir de nuestros datos que minimice R cuadrado. Probemos con un polinomio de cuarto grado:"
   ]
  },
  {
   "cell_type": "code",
   "execution_count": null,
   "metadata": {},
   "outputs": [],
   "source": [
    "x = np.array(callDuration)\n",
    "y = np.array(callerAge)\n",
    "\n",
    "p4 = np.poly1d(np.polyfit(x, y, 4))"
   ]
  },
  {
   "cell_type": "markdown",
   "metadata": {},
   "source": [
    "Visualicemos nuestro scatter plot original, junto con una linea de nuestros valores generados por la regresión polinomial calculada en la celda anterior:"
   ]
  },
  {
   "cell_type": "code",
   "execution_count": null,
   "metadata": {},
   "outputs": [],
   "source": [
    "import matplotlib.pyplot as plt\n",
    "\n",
    "xp = np.linspace(0, 7, 100)\n",
    "plt.scatter(x, y)\n",
    "plt.plot(xp, p4(xp), c='r')\n",
    "plt.show()"
   ]
  },
  {
   "cell_type": "markdown",
   "metadata": {},
   "source": [
    "¡Se ve bastante bien! Midamos el error R cuadrado:"
   ]
  },
  {
   "cell_type": "code",
   "execution_count": null,
   "metadata": {},
   "outputs": [],
   "source": [
    "from sklearn.metrics import r2_score\n",
    "\n",
    "r2 = r2_score(y, p4(x))\n",
    "\n",
    "print(r2)"
   ]
  },
  {
   "cell_type": "markdown",
   "metadata": {},
   "source": [
    "Prueba diferentes órdenes polinomiales. \n",
    "\n",
    "- ¿Puede obtener un mejor ajuste con grados más altos?\n",
    "\n",
    "- ¿Empieza a ver un sobreajuste (overfitting), a pesar de que R^2 cuadrado se ve bien para este conjunto de datos en particular?"
   ]
  }
 ],
 "metadata": {
  "interpreter": {
   "hash": "204c767ef56d95e5bc86ca9329f3414426f9a3ce9df882fe31a1328e9d5923a2"
  },
  "kernelspec": {
   "display_name": "Python 3 (ipykernel)",
   "language": "python",
   "name": "python3"
  },
  "language_info": {
   "codemirror_mode": {
    "name": "ipython",
    "version": 3
   },
   "file_extension": ".py",
   "mimetype": "text/x-python",
   "name": "python",
   "nbconvert_exporter": "python",
   "pygments_lexer": "ipython3",
   "version": "3.8.12"
  }
 },
 "nbformat": 4,
 "nbformat_minor": 1
}
