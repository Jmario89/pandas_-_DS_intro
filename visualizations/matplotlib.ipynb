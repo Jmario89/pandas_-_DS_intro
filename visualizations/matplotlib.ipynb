{
 "cells": [
  {
   "cell_type": "markdown",
   "metadata": {},
   "source": [
    "# Introducción a MatPlotLib"
   ]
  },
  {
   "cell_type": "markdown",
   "metadata": {},
   "source": [
    "## Gráfico de línea"
   ]
  },
  {
   "cell_type": "code",
   "execution_count": null,
   "metadata": {},
   "outputs": [],
   "source": [
    "from scipy.stats import norm\n",
    "import matplotlib.pyplot as plt\n",
    "import numpy as np\n",
    "\n",
    "x = np.arange(-3, 3, 0.01)\n",
    "\n",
    "plt.plot(x, norm.pdf(x))\n",
    "plt.show()"
   ]
  },
  {
   "cell_type": "markdown",
   "metadata": {},
   "source": [
    "## Múltiples figuras en un gráfico"
   ]
  },
  {
   "cell_type": "code",
   "execution_count": null,
   "metadata": {},
   "outputs": [],
   "source": [
    "plt.plot(x, norm.pdf(x))\n",
    "plt.plot(x, norm.pdf(x, 1.0, 0.5))\n",
    "plt.show()"
   ]
  },
  {
   "cell_type": "markdown",
   "metadata": {},
   "source": [
    "## Guardar gráfico como archivo"
   ]
  },
  {
   "cell_type": "code",
   "execution_count": null,
   "metadata": {},
   "outputs": [],
   "source": [
    "plt.plot(x, norm.pdf(x))\n",
    "plt.plot(x, norm.pdf(x, 1.0, 0.5))\n",
    "plt.savefig('MyPlot.png', format='png')"
   ]
  },
  {
   "cell_type": "markdown",
   "metadata": {},
   "source": [
    "## Adjuste de ejes"
   ]
  },
  {
   "cell_type": "code",
   "execution_count": null,
   "metadata": {},
   "outputs": [],
   "source": [
    "axes = plt.axes()\n",
    "axes.set_xlim([-5, 5])\n",
    "axes.set_ylim([0, 1.0])\n",
    "axes.set_xticks([-5, -4, -3, -2, -1, 0, 1, 2, 3, 4, 5])\n",
    "axes.set_yticks([0, 0.1, 0.2, 0.3, 0.4, 0.5, 0.6, 0.7, 0.8, 0.9, 1.0])\n",
    "plt.plot(x, norm.pdf(x))\n",
    "plt.plot(x, norm.pdf(x, 1.0, 0.5))\n",
    "plt.show()"
   ]
  },
  {
   "cell_type": "markdown",
   "metadata": {},
   "source": [
    "## Agregar una marquilla"
   ]
  },
  {
   "cell_type": "code",
   "execution_count": null,
   "metadata": {},
   "outputs": [],
   "source": [
    "axes = plt.axes()\n",
    "axes.set_xlim([-5, 5])\n",
    "axes.set_ylim([0, 1.0])\n",
    "axes.set_xticks([-5, -4, -3, -2, -1, 0, 1, 2, 3, 4, 5])\n",
    "axes.set_yticks([0, 0.1, 0.2, 0.3, 0.4, 0.5, 0.6, 0.7, 0.8, 0.9, 1.0])\n",
    "axes.grid()\n",
    "plt.plot(x, norm.pdf(x))\n",
    "plt.plot(x, norm.pdf(x, 1.0, 0.5))\n",
    "plt.show()"
   ]
  },
  {
   "cell_type": "markdown",
   "metadata": {},
   "source": [
    "## Cambiar tipo de línea"
   ]
  },
  {
   "cell_type": "code",
   "execution_count": null,
   "metadata": {},
   "outputs": [],
   "source": [
    "axes = plt.axes()\n",
    "axes.set_xlim([-5, 5])\n",
    "axes.set_ylim([0, 1.0])\n",
    "axes.set_xticks([-5, -4, -3, -2, -1, 0, 1, 2, 3, 4, 5])\n",
    "axes.set_yticks([0, 0.1, 0.2, 0.3, 0.4, 0.5, 0.6, 0.7, 0.8, 0.9, 1.0])\n",
    "axes.grid()\n",
    "plt.plot(x, norm.pdf(x), 'b-')\n",
    "plt.plot(x, norm.pdf(x, 1.0, 0.5), 'r--')\n",
    "plt.show()"
   ]
  },
  {
   "cell_type": "markdown",
   "metadata": {},
   "source": [
    "## Agregar leyenda y etiquetas a ejes"
   ]
  },
  {
   "cell_type": "code",
   "execution_count": null,
   "metadata": {},
   "outputs": [],
   "source": [
    "axes = plt.axes()\n",
    "axes.set_xlim([-5, 5])\n",
    "axes.set_ylim([0, 1.0])\n",
    "axes.set_xticks([-5, -4, -3, -2, -1, 0, 1, 2, 3, 4, 5])\n",
    "axes.set_yticks([0, 0.1, 0.2, 0.3, 0.4, 0.5, 0.6, 0.7, 0.8, 0.9, 1.0])\n",
    "axes.grid()\n",
    "plt.xlabel('Age')\n",
    "plt.ylabel('Probability')\n",
    "plt.plot(x, norm.pdf(x), 'b-')\n",
    "plt.plot(x, norm.pdf(x, 1.0, 0.5), 'r--')\n",
    "plt.legend(['Success', 'Failure'], loc=4)\n",
    "plt.show()"
   ]
  },
  {
   "cell_type": "markdown",
   "metadata": {},
   "source": [
    "## Gráfico de torta"
   ]
  },
  {
   "cell_type": "code",
   "execution_count": null,
   "metadata": {},
   "outputs": [],
   "source": [
    "values = [12, 55, 4, 32, 14]\n",
    "colors = ['r', 'g', 'b', 'c', 'm']\n",
    "explode = [0, 0, 0.2, 0, 0]\n",
    "labels = ['India', 'United States', 'Russia', 'China', 'Europe']\n",
    "plt.pie(values, colors= colors, labels=labels, explode = explode)\n",
    "plt.title('Student Locations')\n",
    "plt.show()"
   ]
  },
  {
   "cell_type": "markdown",
   "metadata": {},
   "source": [
    "## Gráfico de barras"
   ]
  },
  {
   "cell_type": "code",
   "execution_count": null,
   "metadata": {},
   "outputs": [],
   "source": [
    "values = [12, 55, 4, 32, 14]\n",
    "colors = ['r', 'g', 'b', 'c', 'm']\n",
    "plt.bar(range(0,5), values, color= colors)\n",
    "plt.show()"
   ]
  },
  {
   "cell_type": "markdown",
   "metadata": {},
   "source": [
    "## Gráfico de dispersión"
   ]
  },
  {
   "cell_type": "code",
   "execution_count": null,
   "metadata": {},
   "outputs": [],
   "source": [
    "from pylab import randn\n",
    "\n",
    "X = randn(500)\n",
    "Y = randn(500)\n",
    "plt.scatter(X,Y)\n",
    "plt.show()"
   ]
  },
  {
   "cell_type": "markdown",
   "metadata": {},
   "source": [
    "## Histograma"
   ]
  },
  {
   "cell_type": "code",
   "execution_count": null,
   "metadata": {},
   "outputs": [],
   "source": [
    "incomes = np.random.normal(27000, 15000, 10000)\n",
    "plt.hist(incomes, 50)\n",
    "plt.show()"
   ]
  },
  {
   "cell_type": "markdown",
   "metadata": {},
   "source": [
    "## Diagrama de caja y bigotes"
   ]
  },
  {
   "cell_type": "markdown",
   "metadata": {},
   "source": [
    "Útil para visualizar la dispersión y la distorsión de los datos.\n",
    "\n",
    "La línea roja representa la mediana de los datos y el cuadro representa los límites del primer y tercer cuartiles (rango intercuartil).\n",
    "\n",
    "Entonces, el 50% de los datos se encuentran dentro de la caja.\n",
    "\n",
    "Los \"bigotes\" indican el rango de los datos, excepto los valores atípicos, que se trazan fuera de los bigotes. Los valores atípicos son 1.5X o más del rango intercuartil.\n",
    "\n",
    "Este ejemplo a continuación crea números aleatorios distribuidos uniformemente entre -40 y 60, más algunos valores atípicos por encima de 100 y por debajo de -100:"
   ]
  },
  {
   "cell_type": "code",
   "execution_count": null,
   "metadata": {},
   "outputs": [],
   "source": [
    "uniformSkewed = np.random.rand(100) * 100 - 40\n",
    "high_outliers = np.random.rand(10) * 50 + 100\n",
    "low_outliers = np.random.rand(10) * -50 - 100\n",
    "data = np.concatenate((uniformSkewed, high_outliers, low_outliers))\n",
    "plt.boxplot(data)\n",
    "plt.show()"
   ]
  }
 ],
 "metadata": {
  "kernelspec": {
   "display_name": "Python 3 (ipykernel)",
   "language": "python",
   "name": "python3"
  },
  "language_info": {
   "codemirror_mode": {
    "name": "ipython",
    "version": 3
   },
   "file_extension": ".py",
   "mimetype": "text/x-python",
   "name": "python",
   "nbconvert_exporter": "python",
   "pygments_lexer": "ipython3",
   "version": "3.8.12"
  }
 },
 "nbformat": 4,
 "nbformat_minor": 1
}
