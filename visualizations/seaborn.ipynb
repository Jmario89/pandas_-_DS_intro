{
 "cells": [
  {
   "cell_type": "markdown",
   "metadata": {},
   "source": [
    "# Seaborn\n",
    "\n",
    "Seaborn es una biblioteca de visualización mejorada (basada en matplotlib), lo que la hace más agradable de ver y también agrega algunas funcionalidades adicionales.\n",
    "\n",
    "Comencemos cargando un dataset real en vehículos del año modelo 2019 y trazando un histograma usando matplotlib para ver la distribución por número de engranajes."
   ]
  },
  {
   "cell_type": "code",
   "execution_count": null,
   "metadata": {},
   "outputs": [],
   "source": [
    "import pandas as pd\n",
    "\n",
    "df = pd.read_csv(\"cars.csv\")\n",
    "\n",
    "gear_counts = df['# Gears'].value_counts()\n",
    "\n",
    "gear_counts.plot(kind='bar')"
   ]
  },
  {
   "cell_type": "markdown",
   "metadata": {},
   "source": [
    "Podemos cargar Seaborn y simplemente llamar a sns.set() para cambiar la configuración predeterminada de matplotlib a algo más agradable a la vista."
   ]
  },
  {
   "cell_type": "code",
   "execution_count": null,
   "metadata": {},
   "outputs": [],
   "source": [
    "import seaborn as sns\n",
    "sns.set()"
   ]
  },
  {
   "cell_type": "markdown",
   "metadata": {},
   "source": [
    "Ahora, si mostramos el mismo gráfico, se ve un poco más moderno."
   ]
  },
  {
   "cell_type": "code",
   "execution_count": null,
   "metadata": {},
   "outputs": [],
   "source": [
    "gear_counts.plot(kind='bar')"
   ]
  },
  {
   "cell_type": "markdown",
   "metadata": {},
   "source": [
    "Echemos un vistazo más de cerca a los datos con los que estamos tratando."
   ]
  },
  {
   "cell_type": "code",
   "execution_count": null,
   "metadata": {},
   "outputs": [],
   "source": [
    "df.head()"
   ]
  },
  {
   "cell_type": "markdown",
   "metadata": {},
   "source": [
    "Seaborn incluye muchos tipos de gráficos que matplotlib no ofrece. Por ejemplo, \"distplot\" se puede utilizar para trazar un histograma junto con una distribución uniforme de ese histograma superpuesto. Tracemos la distribución de los valores de MPG en los vehículos como ejemplo:"
   ]
  },
  {
   "cell_type": "code",
   "execution_count": null,
   "metadata": {},
   "outputs": [],
   "source": [
    "sns.displot(df['CombMPG'], kde=True)"
   ]
  },
  {
   "cell_type": "markdown",
   "metadata": {},
   "source": [
    "Algo que encuentras con bastante frecuencia es un \"pairplot\" de Seaborn. Este permite visualizar gráficos de cada combinación de varios atributos juntos, para que pueda buscar patrones interesantes entre características.\n",
    "\n",
    "Como ejemplo, clasifiquemos los automóviles según la cantidad de cilindros y busquemos las relaciones entre los cilindros, la clasificación de MPG en ciudad, la clasificación de MPG en carretera y la clasificación de MPG combinada."
   ]
  },
  {
   "cell_type": "code",
   "execution_count": null,
   "metadata": {},
   "outputs": [],
   "source": [
    "df2 = df[['Cylinders', 'CityMPG', 'HwyMPG', 'CombMPG']]\n",
    "df2.head()"
   ]
  },
  {
   "cell_type": "code",
   "execution_count": null,
   "metadata": {},
   "outputs": [],
   "source": [
    "sns.pairplot(df2, height=4);  #Seaborn currently has a bug with the hue parameter so we've omitted it"
   ]
  },
  {
   "cell_type": "markdown",
   "metadata": {},
   "source": [
    "Al estudiar los resultados anteriores, puede ver que existe una relación entre el número de cilindros y las MPG, pero las MPG para vehículos de 4 cilindros varían mucho. \n",
    "\n",
    "También parece haber una buena relación lineal entre las diferentes formas de medir los valores de MPG, hasta llegar a las calificaciones de MPG más altas."
   ]
  },
  {
   "cell_type": "markdown",
   "metadata": {},
   "source": [
    "Seaborn 1.9 también incluye \"scatterplot\", que es exactamente lo que parece."
   ]
  },
  {
   "cell_type": "code",
   "execution_count": null,
   "metadata": {},
   "outputs": [],
   "source": [
    "sns.scatterplot(x=\"Eng Displ\", y=\"CombMPG\", data=df)"
   ]
  },
  {
   "cell_type": "markdown",
   "metadata": {},
   "source": [
    "Seaborn también ofrece \"jointplot\", que combina una gráfica de dispersión con histogramas en ambos ejes. Esto le permite visualizar tanto los puntos de datos individuales como la distribución en ambas dimensiones al mismo tiempo."
   ]
  },
  {
   "cell_type": "code",
   "execution_count": null,
   "metadata": {},
   "outputs": [],
   "source": [
    "sns.jointplot(x=\"Eng Displ\", y=\"CombMPG\", data=df)"
   ]
  },
  {
   "cell_type": "markdown",
   "metadata": {},
   "source": [
    "El \"lmplot\" es un scatterplot, pero con una línea de regresión lineal calculada y superpuesta a los datos."
   ]
  },
  {
   "cell_type": "code",
   "execution_count": null,
   "metadata": {},
   "outputs": [],
   "source": [
    "sns.lmplot(x=\"Eng Displ\", y=\"CombMPG\", data=df)"
   ]
  },
  {
   "cell_type": "markdown",
   "metadata": {},
   "source": [
    "A continuación, veamos un \"boxplot\". Esto es lo que se llama un gráfico de \"caja y bigotes\", que es útil para visualizar valores típicos para una categoría determinada sin distraerse con valores atípicos. Cada cuadro representa el rango entre el primer y tercer cuartil de los datos, con una línea que representa el valor mediano. Los \"bigotes\" que se extienden desde el cuadro representan la extensión del resto de los datos, además de los valores atípicos claros que se trazan como puntos individuales fuera de los bigotes.\n",
    "\n",
    "Como ejemplo, veamos diagramas de caja para cada fabricante de vehículos, visualizando las clasificaciones de millas por galón en todos los vehículos que producen. Esto nos permite ver la distribución de las calificaciones de MPG en todos los vehículos que ofrece cada fabricante.\n",
    "\n",
    "Hay muchos fabricantes, por lo que para que el gráfico resultante sea legible, aumentaremos el tamaño de figura predeterminado de Seaborn y también usaremos set_xticklabels para rotar las etiquetas 45 grados."
   ]
  },
  {
   "cell_type": "code",
   "execution_count": null,
   "metadata": {},
   "outputs": [],
   "source": [
    "sns.set(rc={'figure.figsize': (20,8)})\n",
    "ax=sns.boxplot(x='Mfr Name', y='CombMPG', data=df)\n",
    "ax.set_xticklabels(ax.get_xticklabels(), rotation=45)"
   ]
  },
  {
   "cell_type": "markdown",
   "metadata": {},
   "source": [
    "Otra forma de visualizar los mismos datos es el \"swarmplot\". En lugar de cajas y bigotes, traza cada punto de datos individual, pero lo hace de tal manera que los agrupa en función de su distribución. Tiene más sentido cuando lo miras:"
   ]
  },
  {
   "cell_type": "code",
   "execution_count": null,
   "metadata": {},
   "outputs": [],
   "source": [
    "ax=sns.swarmplot(x='Mfr Name', y='CombMPG', data=df)\n",
    "ax.set_xticklabels(ax.get_xticklabels(), rotation=45)"
   ]
  },
  {
   "cell_type": "markdown",
   "metadata": {},
   "source": [
    "Otra herramienta es el \"countplot\". Este básicamente es lo mismo que un histograma, pero para datos categóricos. Le permite contar cuántas veces aparece cada categoría dada en el eje X en tus datos. Entonces, por ejemplo, podemos ver que General Motors ofrece más modelos de vehículos que nadie, y BMW no se queda atrás."
   ]
  },
  {
   "cell_type": "code",
   "execution_count": null,
   "metadata": {},
   "outputs": [],
   "source": [
    "ax=sns.countplot(x='Mfr Name', data=df)\n",
    "ax.set_xticklabels(ax.get_xticklabels(),rotation=45)"
   ]
  },
  {
   "cell_type": "markdown",
   "metadata": {},
   "source": [
    "Finalmente, veamos un \"heatmap\" en Seaborn. Un mapa de calor le permite trazar datos tabulares en 2D de algún tipo, con colores que representan los valores individuales en cada celda de la tabla 2D.\n",
    "\n",
    "En este ejemplo, crearemos una tabla dinámica a partir de nuestro dataset original, para crear una tabla 2D que contenga las calificaciones promedio de MPG para cada combinación de número de cilindros y desplazamiento del motor.\n",
    "\n",
    "El mapa de calor resultante muestra todos los valores de desplazamiento del motor a lo largo del eje X y todos los valores de los cilindros a lo largo del eje Y. Para cada celda de la tabla, la clasificación de MPG promedio real para esa combinación de cilindros y desplazamiento del motor se representa no como un número, sino como un color que varía desde oscuro para valores pequeños y claro para valores más grandes.\n",
    "\n",
    "Y esto le permite visualizar una tendencia clara en la que las cosas se oscurecen progresivamente a medida que nos movemos desde la parte superior izquierda del gráfico hacia la parte inferior derecha. Que tiene sentido; Las clasificaciones de MPG más altas están asociadas con un menor número de cilindros y valores de desplazamiento del motor más bajos. Para cuando llegamos a un motor de 16 cilindros y 8 litros, el promedio de MPG es de aproximadamente 12, representado por el color negro.\n",
    "\n",
    "Este gráfico en particular tiene muchos datos faltantes, pero el mapa de calor lo maneja con elegancia. ¡Un motor de 3 cilindros y 8 litros simplemente no existe!"
   ]
  },
  {
   "cell_type": "code",
   "execution_count": null,
   "metadata": {},
   "outputs": [],
   "source": [
    "df2 = df.pivot_table(index='Cylinders', columns='Eng Displ', values='CombMPG', aggfunc='mean')\n",
    "sns.heatmap(df2)"
   ]
  }
 ],
 "metadata": {
  "kernelspec": {
   "display_name": "Python 3 (ipykernel)",
   "language": "python",
   "name": "python3"
  },
  "language_info": {
   "codemirror_mode": {
    "name": "ipython",
    "version": 3
   },
   "file_extension": ".py",
   "mimetype": "text/x-python",
   "name": "python",
   "nbconvert_exporter": "python",
   "pygments_lexer": "ipython3",
   "version": "3.8.12"
  },
  "widgets": {
   "state": {},
   "version": "1.1.2"
  }
 },
 "nbformat": 4,
 "nbformat_minor": 2
}
